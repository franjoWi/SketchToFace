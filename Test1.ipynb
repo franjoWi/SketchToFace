{
 "cells": [
  {
   "cell_type": "code",
   "execution_count": 1,
   "id": "8f43a78f-ccd1-4cf1-8df6-570ca796b706",
   "metadata": {},
   "outputs": [
    {
     "name": "stdout",
     "output_type": "stream",
     "text": [
      "Hallo\n"
     ]
    }
   ],
   "source": [
    "print(\"Hallo\")"
   ]
  },
  {
   "cell_type": "code",
   "execution_count": 2,
   "id": "f3097b08-4283-47bc-8960-d7ecf3246c80",
   "metadata": {},
   "outputs": [
    {
     "name": "stdout",
     "output_type": "stream",
     "text": [
      "Requirement already satisfied: voila in c:\\users\\franz wilmerding\\appdata\\roaming\\python\\python39\\site-packages (0.5.0)\n",
      "Requirement already satisfied: jupyter-client<9,>=7.4.4 in c:\\users\\franz wilmerding\\appdata\\roaming\\python\\python39\\site-packages (from voila) (8.3.0)\n",
      "Requirement already satisfied: jupyter-core>=4.11.0 in c:\\users\\franz wilmerding\\appdata\\roaming\\python\\python39\\site-packages (from voila) (5.3.1)\n",
      "Requirement already satisfied: jupyter-server<3,>=2.0.0 in c:\\users\\franz wilmerding\\appdata\\roaming\\python\\python39\\site-packages (from voila) (2.7.2)\n",
      "Requirement already satisfied: jupyterlab-server<3,>=2.3.0 in c:\\users\\franz wilmerding\\appdata\\roaming\\python\\python39\\site-packages (from voila) (2.24.0)\n",
      "Requirement already satisfied: nbclient<0.8,>=0.4.0 in c:\\users\\franz wilmerding\\anaconda3\\lib\\site-packages (from voila) (0.5.13)\n",
      "Requirement already satisfied: nbconvert<8,>=6.4.5 in c:\\users\\franz wilmerding\\appdata\\roaming\\python\\python39\\site-packages (from voila) (7.7.4)\n",
      "Requirement already satisfied: traitlets<6,>=5.0.3 in c:\\users\\franz wilmerding\\anaconda3\\lib\\site-packages (from voila) (5.9.0)\n",
      "Requirement already satisfied: websockets>=9.0 in c:\\users\\franz wilmerding\\anaconda3\\lib\\site-packages (from voila) (11.0.3)\n",
      "Requirement already satisfied: importlib-metadata>=4.8.3 in c:\\users\\franz wilmerding\\anaconda3\\lib\\site-packages (from jupyter-client<9,>=7.4.4->voila) (4.11.3)\n",
      "Requirement already satisfied: python-dateutil>=2.8.2 in c:\\users\\franz wilmerding\\anaconda3\\lib\\site-packages (from jupyter-client<9,>=7.4.4->voila) (2.8.2)\n",
      "Requirement already satisfied: pyzmq>=23.0 in c:\\users\\franz wilmerding\\anaconda3\\lib\\site-packages (from jupyter-client<9,>=7.4.4->voila) (25.1.1)\n",
      "Requirement already satisfied: tornado>=6.2 in c:\\users\\franz wilmerding\\anaconda3\\lib\\site-packages (from jupyter-client<9,>=7.4.4->voila) (6.3.3)\n",
      "Requirement already satisfied: platformdirs>=2.5 in c:\\users\\franz wilmerding\\anaconda3\\lib\\site-packages (from jupyter-core>=4.11.0->voila) (2.5.2)\n",
      "Requirement already satisfied: pywin32>=300 in c:\\users\\franz wilmerding\\anaconda3\\lib\\site-packages (from jupyter-core>=4.11.0->voila) (302)\n",
      "Requirement already satisfied: anyio>=3.1.0 in c:\\users\\franz wilmerding\\anaconda3\\lib\\site-packages (from jupyter-server<3,>=2.0.0->voila) (3.5.0)\n",
      "Requirement already satisfied: argon2-cffi in c:\\users\\franz wilmerding\\anaconda3\\lib\\site-packages (from jupyter-server<3,>=2.0.0->voila) (21.3.0)\n",
      "Requirement already satisfied: jinja2 in c:\\users\\franz wilmerding\\appdata\\roaming\\python\\python39\\site-packages (from jupyter-server<3,>=2.0.0->voila) (3.1.2)\n",
      "Requirement already satisfied: jupyter-events>=0.6.0 in c:\\users\\franz wilmerding\\appdata\\roaming\\python\\python39\\site-packages (from jupyter-server<3,>=2.0.0->voila) (0.7.0)\n",
      "Requirement already satisfied: jupyter-server-terminals in c:\\users\\franz wilmerding\\appdata\\roaming\\python\\python39\\site-packages (from jupyter-server<3,>=2.0.0->voila) (0.4.4)\n",
      "Requirement already satisfied: nbformat>=5.3.0 in c:\\users\\franz wilmerding\\appdata\\roaming\\python\\python39\\site-packages (from jupyter-server<3,>=2.0.0->voila) (5.9.2)\n",
      "Requirement already satisfied: overrides in c:\\users\\franz wilmerding\\appdata\\roaming\\python\\python39\\site-packages (from jupyter-server<3,>=2.0.0->voila) (7.4.0)\n",
      "Requirement already satisfied: packaging in c:\\users\\franz wilmerding\\anaconda3\\lib\\site-packages (from jupyter-server<3,>=2.0.0->voila) (21.3)\n",
      "Requirement already satisfied: prometheus-client in c:\\users\\franz wilmerding\\anaconda3\\lib\\site-packages (from jupyter-server<3,>=2.0.0->voila) (0.14.1)\n",
      "Requirement already satisfied: pywinpty in c:\\users\\franz wilmerding\\appdata\\roaming\\python\\python39\\site-packages (from jupyter-server<3,>=2.0.0->voila) (2.0.11)\n",
      "Requirement already satisfied: send2trash>=1.8.2 in c:\\users\\franz wilmerding\\anaconda3\\lib\\site-packages (from jupyter-server<3,>=2.0.0->voila) (1.8.2)\n",
      "Requirement already satisfied: terminado>=0.8.3 in c:\\users\\franz wilmerding\\anaconda3\\lib\\site-packages (from jupyter-server<3,>=2.0.0->voila) (0.13.1)\n",
      "Requirement already satisfied: websocket-client in c:\\users\\franz wilmerding\\anaconda3\\lib\\site-packages (from jupyter-server<3,>=2.0.0->voila) (0.58.0)\n",
      "Requirement already satisfied: babel>=2.10 in c:\\users\\franz wilmerding\\appdata\\roaming\\python\\python39\\site-packages (from jupyterlab-server<3,>=2.3.0->voila) (2.12.1)\n",
      "Requirement already satisfied: json5>=0.9.0 in c:\\users\\franz wilmerding\\anaconda3\\lib\\site-packages (from jupyterlab-server<3,>=2.3.0->voila) (0.9.6)\n",
      "Requirement already satisfied: jsonschema>=4.17.3 in c:\\users\\franz wilmerding\\appdata\\roaming\\python\\python39\\site-packages (from jupyterlab-server<3,>=2.3.0->voila) (4.19.0)\n",
      "Requirement already satisfied: requests>=2.28 in c:\\users\\franz wilmerding\\anaconda3\\lib\\site-packages (from jupyterlab-server<3,>=2.3.0->voila) (2.28.1)\n",
      "Requirement already satisfied: nest-asyncio in c:\\users\\franz wilmerding\\anaconda3\\lib\\site-packages (from nbclient<0.8,>=0.4.0->voila) (1.5.5)\n",
      "Requirement already satisfied: beautifulsoup4 in c:\\users\\franz wilmerding\\anaconda3\\lib\\site-packages (from nbconvert<8,>=6.4.5->voila) (4.11.1)\n",
      "Requirement already satisfied: bleach!=5.0.0 in c:\\users\\franz wilmerding\\anaconda3\\lib\\site-packages (from nbconvert<8,>=6.4.5->voila) (4.1.0)\n",
      "Requirement already satisfied: defusedxml in c:\\users\\franz wilmerding\\anaconda3\\lib\\site-packages (from nbconvert<8,>=6.4.5->voila) (0.7.1)\n",
      "Requirement already satisfied: jupyterlab-pygments in c:\\users\\franz wilmerding\\anaconda3\\lib\\site-packages (from nbconvert<8,>=6.4.5->voila) (0.1.2)\n",
      "Requirement already satisfied: markupsafe>=2.0 in c:\\users\\franz wilmerding\\anaconda3\\lib\\site-packages (from nbconvert<8,>=6.4.5->voila) (2.0.1)\n",
      "Requirement already satisfied: mistune<4,>=2.0.3 in c:\\users\\franz wilmerding\\appdata\\roaming\\python\\python39\\site-packages (from nbconvert<8,>=6.4.5->voila) (3.0.1)\n",
      "Requirement already satisfied: pandocfilters>=1.4.1 in c:\\users\\franz wilmerding\\anaconda3\\lib\\site-packages (from nbconvert<8,>=6.4.5->voila) (1.5.0)\n",
      "Requirement already satisfied: pygments>=2.4.1 in c:\\users\\franz wilmerding\\anaconda3\\lib\\site-packages (from nbconvert<8,>=6.4.5->voila) (2.11.2)\n",
      "Requirement already satisfied: tinycss2 in c:\\users\\franz wilmerding\\anaconda3\\lib\\site-packages (from nbconvert<8,>=6.4.5->voila) (1.2.1)\n",
      "Requirement already satisfied: idna>=2.8 in c:\\users\\franz wilmerding\\anaconda3\\lib\\site-packages (from anyio>=3.1.0->jupyter-server<3,>=2.0.0->voila) (3.3)\n",
      "Requirement already satisfied: sniffio>=1.1 in c:\\users\\franz wilmerding\\anaconda3\\lib\\site-packages (from anyio>=3.1.0->jupyter-server<3,>=2.0.0->voila) (1.2.0)\n",
      "Requirement already satisfied: six>=1.9.0 in c:\\users\\franz wilmerding\\anaconda3\\lib\\site-packages (from bleach!=5.0.0->nbconvert<8,>=6.4.5->voila) (1.16.0)\n",
      "Requirement already satisfied: webencodings in c:\\users\\franz wilmerding\\anaconda3\\lib\\site-packages (from bleach!=5.0.0->nbconvert<8,>=6.4.5->voila) (0.5.1)\n",
      "Requirement already satisfied: zipp>=0.5 in c:\\users\\franz wilmerding\\anaconda3\\lib\\site-packages (from importlib-metadata>=4.8.3->jupyter-client<9,>=7.4.4->voila) (3.8.0)\n",
      "Requirement already satisfied: attrs>=22.2.0 in c:\\users\\franz wilmerding\\appdata\\roaming\\python\\python39\\site-packages (from jsonschema>=4.17.3->jupyterlab-server<3,>=2.3.0->voila) (23.1.0)\n",
      "Requirement already satisfied: jsonschema-specifications>=2023.03.6 in c:\\users\\franz wilmerding\\appdata\\roaming\\python\\python39\\site-packages (from jsonschema>=4.17.3->jupyterlab-server<3,>=2.3.0->voila) (2023.7.1)\n",
      "Requirement already satisfied: referencing>=0.28.4 in c:\\users\\franz wilmerding\\appdata\\roaming\\python\\python39\\site-packages (from jsonschema>=4.17.3->jupyterlab-server<3,>=2.3.0->voila) (0.30.2)\n",
      "Requirement already satisfied: rpds-py>=0.7.1 in c:\\users\\franz wilmerding\\anaconda3\\lib\\site-packages (from jsonschema>=4.17.3->jupyterlab-server<3,>=2.3.0->voila) (0.9.2)\n",
      "Requirement already satisfied: python-json-logger>=2.0.4 in c:\\users\\franz wilmerding\\appdata\\roaming\\python\\python39\\site-packages (from jupyter-events>=0.6.0->jupyter-server<3,>=2.0.0->voila) (2.0.7)\n",
      "Requirement already satisfied: pyyaml>=5.3 in c:\\users\\franz wilmerding\\anaconda3\\lib\\site-packages (from jupyter-events>=0.6.0->jupyter-server<3,>=2.0.0->voila) (6.0)\n",
      "Requirement already satisfied: rfc3339-validator in c:\\users\\franz wilmerding\\anaconda3\\lib\\site-packages (from jupyter-events>=0.6.0->jupyter-server<3,>=2.0.0->voila) (0.1.4)\n",
      "Requirement already satisfied: rfc3986-validator>=0.1.1 in c:\\users\\franz wilmerding\\anaconda3\\lib\\site-packages (from jupyter-events>=0.6.0->jupyter-server<3,>=2.0.0->voila) (0.1.1)\n",
      "Requirement already satisfied: fastjsonschema in c:\\users\\franz wilmerding\\anaconda3\\lib\\site-packages (from nbformat>=5.3.0->jupyter-server<3,>=2.0.0->voila) (2.16.2)\n",
      "Requirement already satisfied: pyparsing!=3.0.5,>=2.0.2 in c:\\users\\franz wilmerding\\anaconda3\\lib\\site-packages (from packaging->jupyter-server<3,>=2.0.0->voila) (3.0.9)\n",
      "Requirement already satisfied: charset-normalizer<3,>=2 in c:\\users\\franz wilmerding\\anaconda3\\lib\\site-packages (from requests>=2.28->jupyterlab-server<3,>=2.3.0->voila) (2.0.4)\n",
      "Requirement already satisfied: urllib3<1.27,>=1.21.1 in c:\\users\\franz wilmerding\\anaconda3\\lib\\site-packages (from requests>=2.28->jupyterlab-server<3,>=2.3.0->voila) (1.26.11)\n",
      "Requirement already satisfied: certifi>=2017.4.17 in c:\\users\\franz wilmerding\\anaconda3\\lib\\site-packages (from requests>=2.28->jupyterlab-server<3,>=2.3.0->voila) (2023.7.22)\n",
      "Requirement already satisfied: argon2-cffi-bindings in c:\\users\\franz wilmerding\\anaconda3\\lib\\site-packages (from argon2-cffi->jupyter-server<3,>=2.0.0->voila) (21.2.0)\n",
      "Requirement already satisfied: soupsieve>1.2 in c:\\users\\franz wilmerding\\anaconda3\\lib\\site-packages (from beautifulsoup4->nbconvert<8,>=6.4.5->voila) (2.3.1)\n",
      "Requirement already satisfied: fqdn in c:\\users\\franz wilmerding\\appdata\\roaming\\python\\python39\\site-packages (from jsonschema>=4.17.3->jupyterlab-server<3,>=2.3.0->voila) (1.5.1)\n",
      "Requirement already satisfied: isoduration in c:\\users\\franz wilmerding\\appdata\\roaming\\python\\python39\\site-packages (from jsonschema>=4.17.3->jupyterlab-server<3,>=2.3.0->voila) (20.11.0)\n",
      "Requirement already satisfied: jsonpointer>1.13 in c:\\users\\franz wilmerding\\anaconda3\\lib\\site-packages (from jsonschema>=4.17.3->jupyterlab-server<3,>=2.3.0->voila) (2.1)\n",
      "Requirement already satisfied: uri-template in c:\\users\\franz wilmerding\\anaconda3\\lib\\site-packages (from jsonschema>=4.17.3->jupyterlab-server<3,>=2.3.0->voila) (1.3.0)\n",
      "Requirement already satisfied: webcolors>=1.11 in c:\\users\\franz wilmerding\\anaconda3\\lib\\site-packages (from jsonschema>=4.17.3->jupyterlab-server<3,>=2.3.0->voila) (1.13)\n",
      "Requirement already satisfied: cffi>=1.0.1 in c:\\users\\franz wilmerding\\anaconda3\\lib\\site-packages (from argon2-cffi-bindings->argon2-cffi->jupyter-server<3,>=2.0.0->voila) (1.15.1)\n",
      "Requirement already satisfied: pycparser in c:\\users\\franz wilmerding\\anaconda3\\lib\\site-packages (from cffi>=1.0.1->argon2-cffi-bindings->argon2-cffi->jupyter-server<3,>=2.0.0->voila) (2.21)\n",
      "Requirement already satisfied: arrow>=0.15.0 in c:\\users\\franz wilmerding\\anaconda3\\lib\\site-packages (from isoduration->jsonschema>=4.17.3->jupyterlab-server<3,>=2.3.0->voila) (1.2.2)\n"
     ]
    },
    {
     "name": "stderr",
     "output_type": "stream",
     "text": [
      "Enabling: voila\n",
      "- Writing config: C:\\Users\\Franz Wilmerding\\anaconda3\\etc\\jupyter\n",
      "    - Validating...\n",
      "      voila 0.5.0 ok\n"
     ]
    }
   ],
   "source": [
    "!pip install voila\n",
    "!jupyter serverextension enable --sys-prefix voila"
   ]
  },
  {
   "cell_type": "code",
   "execution_count": null,
   "id": "8fd2ee79-e3a3-461d-827f-bd85e0c090eb",
   "metadata": {},
   "outputs": [],
   "source": []
  }
 ],
 "metadata": {
  "kernelspec": {
   "display_name": "Python 3 (ipykernel)",
   "language": "python",
   "name": "python3"
  },
  "language_info": {
   "codemirror_mode": {
    "name": "ipython",
    "version": 3
   },
   "file_extension": ".py",
   "mimetype": "text/x-python",
   "name": "python",
   "nbconvert_exporter": "python",
   "pygments_lexer": "ipython3",
   "version": "3.9.13"
  }
 },
 "nbformat": 4,
 "nbformat_minor": 5
}
