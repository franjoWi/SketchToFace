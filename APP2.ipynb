{
 "cells": [
  {
   "cell_type": "code",
   "execution_count": 39,
   "id": "522b0735-fc71-4e33-8b74-b459cda33470",
   "metadata": {},
   "outputs": [],
   "source": [
    "import ipywidgets as widgets\n",
    "from IPython.display import display, Image\n",
    "import os"
   ]
  },
  {
   "cell_type": "code",
   "execution_count": 40,
   "id": "28f54d99-d377-481d-8949-dd86b0f6cacd",
   "metadata": {},
   "outputs": [
    {
     "data": {
      "application/vnd.jupyter.widget-view+json": {
       "model_id": "23dc01e458244b6cbb7594895bae9491",
       "version_major": 2,
       "version_minor": 0
      },
      "text/plain": [
       "FileUpload(value=(), accept='image/*', description='Upload')"
      ]
     },
     "metadata": {},
     "output_type": "display_data"
    },
    {
     "data": {
      "application/vnd.jupyter.widget-view+json": {
       "model_id": "5c5d5641be02441fb6a193d531836279",
       "version_major": 2,
       "version_minor": 0
      },
      "text/plain": [
       "Image(value=b'')"
      ]
     },
     "metadata": {},
     "output_type": "display_data"
    }
   ],
   "source": [
    "# Funktion, die aufgerufen wird, wenn ein Bild hochgeladen wird\n",
    "def on_upload_change(change):\n",
    "    if change['type'] == 'change' and change['name'] == 'value':\n",
    "        uploaded_image = change['new'][0]\n",
    "        \n",
    "        # Speichere das Bild im Ordner 'uploaded_images'\n",
    "        save_path = os.path.join('validation/test', 'test_img.png')\n",
    "        with open(save_path, 'wb') as f:\n",
    "            f.write(uploaded_image['content'])\n",
    "        \n",
    "        input_widget.value = uploaded_image['content']\n",
    "\n",
    "# Erstelle einen Upload-Button\n",
    "upload_button = widgets.FileUpload(accept='image/*')\n",
    "\n",
    "# Erstelle ein Image-Widget\n",
    "input_widget = widgets.Image()\n",
    "\n",
    "# Verknüpfe die Upload-Änderungen mit der Funktion\n",
    "upload_button.observe(on_upload_change, names='value')\n",
    "\n",
    "# Zeige die Widgets an\n",
    "display(upload_button)\n",
    "display(input_widget)"
   ]
  },
  {
   "cell_type": "code",
   "execution_count": 41,
   "id": "c2579f96-de18-4454-a4cd-2e7e3fd0acd1",
   "metadata": {},
   "outputs": [
    {
     "data": {
      "application/vnd.jupyter.widget-view+json": {
       "model_id": "7eee42ae23304ac48a7bb11ee5b63661",
       "version_major": 2,
       "version_minor": 0
      },
      "text/plain": [
       "Button(description='Generate Face', style=ButtonStyle())"
      ]
     },
     "metadata": {},
     "output_type": "display_data"
    }
   ],
   "source": [
    "import ipywidgets as widgets\n",
    "from IPython.display import display\n",
    "import subprocess\n",
    "\n",
    "# Funktion, die den Befehl ausführt\n",
    "def on_generate_change(_):\n",
    "    command = [\n",
    "        'python', 'test.py',\n",
    "        '--load_size', '1024',\n",
    "        '--crop_size', '1024',\n",
    "        '--dataroot', 'validation',\n",
    "        '--name', 'iMACE',\n",
    "        '--model', 'pix2pix',\n",
    "        '--direction', 'BtoA',\n",
    "        '--no_flip',\n",
    "        '--num_threads', '-1',\n",
    "        '--gpu_ids', '-1'\n",
    "    ]\n",
    "    \n",
    "    try:\n",
    "        subprocess.run(command, check=True)\n",
    "    except subprocess.CalledProcessError as e:\n",
    "        print(\"Fehler beim Ausführen des Befehls:\", e)\n",
    "\n",
    "\n",
    "# Erstelle einen Generate-Button\n",
    "generate_button = widgets.Button(description='Generate Face')\n",
    "generate_button.on_click(on_generate_change)  # Verknüpfe die Funktion mit dem Button\n",
    "\n",
    "# Zeige die Widgets an\n",
    "display(generate_button)"
   ]
  },
  {
   "cell_type": "code",
   "execution_count": 42,
   "id": "dceaa8bb-5f9a-4617-8083-d68726300248",
   "metadata": {},
   "outputs": [
    {
     "data": {
      "application/vnd.jupyter.widget-view+json": {
       "model_id": "4014e995be574a3ba9538d87044af70a",
       "version_major": 2,
       "version_minor": 0
      },
      "text/plain": [
       "Button(description='Zeige Bild', style=ButtonStyle())"
      ]
     },
     "metadata": {},
     "output_type": "display_data"
    },
    {
     "data": {
      "application/vnd.jupyter.widget-view+json": {
       "model_id": "58ded8979d604a15b7c86a7fdccdc399",
       "version_major": 2,
       "version_minor": 0
      },
      "text/plain": [
       "Image(value=b'')"
      ]
     },
     "metadata": {},
     "output_type": "display_data"
    }
   ],
   "source": [
    "from IPython.display import display, Image\n",
    "import ipywidgets as widgets\n",
    "\n",
    "# Funktion, die aufgerufen wird, wenn der Button geklickt wird\n",
    "def show_image(_):\n",
    "    image_path = 'results/iMACE/test_latest/images/test_img_fake_B.png'  # Hier den Pfad zu deinem Bild angeben\n",
    "    output_widget.value = open(image_path, 'rb').read()\n",
    "\n",
    "# Erstelle einen Button\n",
    "show_image_button = widgets.Button(description='Zeige Bild')\n",
    "\n",
    "# Erstelle ein Image-Widget\n",
    "output_widget = widgets.Image()\n",
    "\n",
    "# Verknüpfe die Button-Klick-Funktion\n",
    "show_image_button.on_click(show_image)\n",
    "\n",
    "# Zeige den Button und das Image-Widget an\n",
    "display(show_image_button)\n",
    "display(output_widget)"
   ]
  },
  {
   "cell_type": "code",
   "execution_count": null,
   "id": "dd24b93b-3c92-4989-89c3-5c25cba0172f",
   "metadata": {},
   "outputs": [],
   "source": []
  }
 ],
 "metadata": {
  "kernelspec": {
   "display_name": "Python 3 (ipykernel)",
   "language": "python",
   "name": "python3"
  },
  "language_info": {
   "codemirror_mode": {
    "name": "ipython",
    "version": 3
   },
   "file_extension": ".py",
   "mimetype": "text/x-python",
   "name": "python",
   "nbconvert_exporter": "python",
   "pygments_lexer": "ipython3",
   "version": "3.11.4"
  }
 },
 "nbformat": 4,
 "nbformat_minor": 5
}
