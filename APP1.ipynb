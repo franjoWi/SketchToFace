{
 "cells": [
  {
   "cell_type": "code",
   "execution_count": 35,
   "id": "7fc89df8-eec5-43a7-a0e0-cf98e4c985de",
   "metadata": {},
   "outputs": [],
   "source": [
    "import ipywidgets as widgets\n",
    "from PIL import Image\n",
    "import os\n",
    "import io\n",
    "from IPython.display import display"
   ]
  },
  {
   "cell_type": "code",
   "execution_count": 36,
   "id": "73e8f59f-6e58-49aa-8ae6-e784cafec95f",
   "metadata": {},
   "outputs": [
    {
     "data": {
      "application/vnd.jupyter.widget-view+json": {
       "model_id": "00f3fc959bdd48c4839854236f3a6d2d",
       "version_major": 2,
       "version_minor": 0
      },
      "text/plain": [
       "FileUpload(value={}, description='Upload')"
      ]
     },
     "metadata": {},
     "output_type": "display_data"
    }
   ],
   "source": [
    "btn_upload = widgets.FileUpload(multiple=False)\n",
    "btn_upload"
   ]
  },
  {
   "cell_type": "code",
   "execution_count": 37,
   "id": "e1d11d37-ed32-4f3d-a1d6-54bb1abc4d47",
   "metadata": {},
   "outputs": [
    {
     "ename": "IndexError",
     "evalue": "list index out of range",
     "output_type": "error",
     "traceback": [
      "\u001b[1;31m---------------------------------------------------------------------------\u001b[0m",
      "\u001b[1;31mIndexError\u001b[0m                                Traceback (most recent call last)",
      "\u001b[1;32m~\\AppData\\Local\\Temp\\ipykernel_17536\\4203433422.py\u001b[0m in \u001b[0;36m<module>\u001b[1;34m\u001b[0m\n\u001b[1;32m----> 1\u001b[1;33m \u001b[0mimg_content\u001b[0m \u001b[1;33m=\u001b[0m \u001b[0mbtn_upload\u001b[0m\u001b[1;33m.\u001b[0m\u001b[0mvalue\u001b[0m\u001b[1;33m[\u001b[0m\u001b[0mlist\u001b[0m\u001b[1;33m(\u001b[0m\u001b[0mbtn_upload\u001b[0m\u001b[1;33m.\u001b[0m\u001b[0mvalue\u001b[0m\u001b[1;33m.\u001b[0m\u001b[0mkeys\u001b[0m\u001b[1;33m(\u001b[0m\u001b[1;33m)\u001b[0m\u001b[1;33m)\u001b[0m\u001b[1;33m[\u001b[0m\u001b[1;36m0\u001b[0m\u001b[1;33m]\u001b[0m\u001b[1;33m]\u001b[0m\u001b[1;33m[\u001b[0m\u001b[1;34m'content'\u001b[0m\u001b[1;33m]\u001b[0m\u001b[1;33m\u001b[0m\u001b[1;33m\u001b[0m\u001b[0m\n\u001b[0m\u001b[0;32m      2\u001b[0m \u001b[0mimg\u001b[0m \u001b[1;33m=\u001b[0m \u001b[0mwidgets\u001b[0m\u001b[1;33m.\u001b[0m\u001b[0mImage\u001b[0m\u001b[1;33m(\u001b[0m\u001b[0mvalue\u001b[0m\u001b[1;33m=\u001b[0m\u001b[0mimg_content\u001b[0m\u001b[1;33m,\u001b[0m \u001b[0mformat\u001b[0m\u001b[1;33m=\u001b[0m\u001b[1;34m'png'\u001b[0m\u001b[1;33m)\u001b[0m\u001b[1;33m\u001b[0m\u001b[1;33m\u001b[0m\u001b[0m\n",
      "\u001b[1;31mIndexError\u001b[0m: list index out of range"
     ]
    }
   ],
   "source": [
    "img_content = btn_upload.value[list(btn_upload.value.keys())[0]]['content']\n",
    "img = widgets.Image(value=img_content, format='png')"
   ]
  },
  {
   "cell_type": "code",
   "execution_count": 38,
   "id": "776f4248-70d2-4931-b001-ec64d3211b6c",
   "metadata": {},
   "outputs": [
    {
     "data": {
      "application/vnd.jupyter.widget-view+json": {
       "model_id": "36e5ff4d0a6247f9ada5ca35d1401322",
       "version_major": 2,
       "version_minor": 0
      },
      "text/plain": [
       "Output()"
      ]
     },
     "metadata": {},
     "output_type": "display_data"
    }
   ],
   "source": [
    "out_pl1 = widgets.Output()\n",
    "out_pl1.clear_output()\n",
    "with out_pl1: display(img)\n",
    "out_pl1"
   ]
  },
  {
   "cell_type": "code",
   "execution_count": 39,
   "id": "93ffb684-8d5d-4e29-8f31-a8772b2403be",
   "metadata": {},
   "outputs": [],
   "source": [
    "# Convert the image content to a PIL Image object\n",
    "pil_image = Image.open(io.BytesIO(img.value))\n",
    "\n",
    "# Specify the directory where you want to save the image\n",
    "output_directory = \"validation/test\"\n",
    "os.makedirs(output_directory, exist_ok=True)\n",
    "\n",
    "# Convert the image to RGB mode\n",
    "if pil_image.mode == 'RGBA':\n",
    "    pil_image = pil_image.convert('RGB')\n",
    "\n",
    "# Save the image to the directory\n",
    "image_filename = os.path.join(output_directory, \"uploaded_img.png\")\n",
    "pil_image.save(image_filename)"
   ]
  },
  {
   "cell_type": "code",
   "execution_count": 40,
   "id": "2928db79-cd4f-4092-8fc2-83f18c28e8f3",
   "metadata": {},
   "outputs": [],
   "source": [
    "def generate(btn_generate):\n",
    "    !python test.py --load_size 1024 --crop_size 1024 --dataroot validation --name iMACE --model pix2pix --direction BtoA --no_flip --num_threads -1 --gpu_ids -1"
   ]
  },
  {
   "cell_type": "code",
   "execution_count": 41,
   "id": "43c7235b-9cfe-489d-a293-7ecea0654f61",
   "metadata": {},
   "outputs": [
    {
     "data": {
      "application/vnd.jupyter.widget-view+json": {
       "model_id": "df228c0fa3ff47bc9a6d1cc329fafa5b",
       "version_major": 2,
       "version_minor": 0
      },
      "text/plain": [
       "Button(description='Generate Face', style=ButtonStyle())"
      ]
     },
     "metadata": {},
     "output_type": "display_data"
    }
   ],
   "source": [
    "btn_generate = widgets.Button(\n",
    "    description='Generate Face',\n",
    "    disabled=False,\n",
    ")\n",
    "btn_generate.on_click(generate)\n",
    "btn_generate"
   ]
  },
  {
   "cell_type": "code",
   "execution_count": 42,
   "id": "d24c0c90-9cf6-4f68-8597-f9c9de4e49db",
   "metadata": {},
   "outputs": [],
   "source": [
    "img_widget = widgets.Image(value=open('results/iMACE/test_latest/images/uploaded_img_fake_B.png', \"rb\").read(), format='png')"
   ]
  },
  {
   "cell_type": "code",
   "execution_count": 43,
   "id": "69841608-b1a3-43dd-ae63-58f0ee234f49",
   "metadata": {},
   "outputs": [
    {
     "data": {
      "application/vnd.jupyter.widget-view+json": {
       "model_id": "aa6f772b3622474d8fa11ee511b5acf7",
       "version_major": 2,
       "version_minor": 0
      },
      "text/plain": [
       "Output()"
      ]
     },
     "metadata": {},
     "output_type": "display_data"
    }
   ],
   "source": [
    "out_pl2 = widgets.Output()\n",
    "out_pl2.clear_output()\n",
    "with out_pl2: display(img_widget)\n",
    "out_pl2"
   ]
  },
  {
   "cell_type": "code",
   "execution_count": null,
   "id": "fa6e9e31-6d9e-4536-8bc1-1b97b4634bc7",
   "metadata": {},
   "outputs": [],
   "source": []
  }
 ],
 "metadata": {
  "kernelspec": {
   "display_name": "Python 3 (ipykernel)",
   "language": "python",
   "name": "python3"
  },
  "language_info": {
   "codemirror_mode": {
    "name": "ipython",
    "version": 3
   },
   "file_extension": ".py",
   "mimetype": "text/x-python",
   "name": "python",
   "nbconvert_exporter": "python",
   "pygments_lexer": "ipython3",
   "version": "3.9.13"
  }
 },
 "nbformat": 4,
 "nbformat_minor": 5
}
